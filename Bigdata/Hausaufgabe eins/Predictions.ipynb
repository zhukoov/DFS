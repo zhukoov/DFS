{
 "cells": [
  {
   "cell_type": "code",
   "execution_count": 96,
   "metadata": {},
   "outputs": [],
   "source": [
    "# 导入模块\n",
    "import pandas as pd\n",
    "import numpy as np\n",
    "from sklearn import ensemble, preprocessing, metrics\n",
    "from sklearn.metrics import accuracy_score\n",
    "from sklearn.utils import shuffle\n",
    "import time"
   ]
  },
  {
   "cell_type": "code",
   "execution_count": 97,
   "metadata": {},
   "outputs": [],
   "source": [
    "# 使用数据集\n",
    "train0 = pd.read_csv('train.csv')\n",
    "weather = pd.read_csv('weather.csv')\n",
    "test0 = pd.read_csv('test.csv')\n",
    "# DataFrame 是一个表格型的数据结构，它含有一组有序的列，每列可以是不同的值类型（数值、字符串、布尔型值）。\n",
    "# DataFrame 既有行索引也有列索引，它可以被看做由 Series 组成的字典（共同用一个索引）。"
   ]
  },
  {
   "cell_type": "code",
   "execution_count": 98,
   "metadata": {},
   "outputs": [],
   "source": [
    "# 按照时间顺序将train0数据集划分为train，test数据集\n",
    "\n",
    "# 思考：如何使用字符串匹配来划分train、test数据集？\n",
    "\n",
    "train = train0.copy()\n",
    "test = test0.copy()"
   ]
  },
  {
   "cell_type": "code",
   "execution_count": 99,
   "metadata": {},
   "outputs": [],
   "source": [
    "# 处理weather数据集\n",
    "def weather_process(dataframe):\n",
    "    dataframe = dataframe.drop('CodeSum', axis=1)\n",
    "    dataframe = dataframe.replace('-', -1)\n",
    "    dataframe = dataframe.replace('M', -1)\n",
    "    dataframe = dataframe.replace('  T', -1)\n",
    "    return dataframe"
   ]
  },
  {
   "cell_type": "code",
   "execution_count": 100,
   "metadata": {},
   "outputs": [],
   "source": [
    "# 处理train，test数据集\n",
    "def train_process(shit):\n",
    "\n",
    "    shit['Month'] = shit.Date.apply(create_month)\n",
    "    shit['Day'] = shit.Date.apply(create_day)\n",
    "    shit['Lat_appro'] = shit.Latitude.apply(appro)\n",
    "    shit['Long_appro'] = shit.Longitude.apply(appro)\n",
    "    shit = shit.drop(['Address', 'Block', 'Street'], axis=1)\n",
    "    return shit"
   ]
  },
  {
   "cell_type": "code",
   "execution_count": 101,
   "metadata": {},
   "outputs": [],
   "source": [
    "# 分割日期数据\n",
    "\n",
    "def create_month(x):\n",
    "    return x.split('-')[1]\n",
    "\n",
    "def create_day(x):\n",
    "    return x.split('-')[2]"
   ]
  },
  {
   "cell_type": "code",
   "execution_count": 102,
   "metadata": {},
   "outputs": [],
   "source": [
    "# 取经纬度的近似值\n",
    "\n",
    "def appro(x):\n",
    "    return round(x, 2)"
   ]
  },
  {
   "cell_type": "code",
   "execution_count": 103,
   "metadata": {},
   "outputs": [],
   "source": [
    "# 根据日期将天气数据与训练集测试集合并\n",
    "\n",
    "def join_process(data, weather):\n",
    "    data = data.merge(weather, on='Date')\n",
    "    data = data.drop(['Date'], axis=1)\n",
    "    return data"
   ]
  },
  {
   "cell_type": "code",
   "execution_count": 104,
   "metadata": {},
   "outputs": [],
   "source": [
    "# 预处理数据，将标签编码，得到物种、位置以及陷阱对应的编码值\n",
    "\n",
    "def encode_data(dataframe):\n",
    "    lbl = preprocessing.LabelEncoder()\n",
    "    sp = list(train0['Species'].values)+list(test0['Species'].values)\n",
    "    lbl.fit(sp) #\n",
    "    dataframe['Species'] = lbl.transform(dataframe['Species'].values)\n",
    "    \n",
    "    tr = list(train0['Trap'].values)+list(test0['Trap'].values)\n",
    "    lbl.fit(tr)#\n",
    "    dataframe['Trap'] = lbl.transform(dataframe['Trap'].values)\n",
    "    \n",
    "    ad = list(train0['AddressNumberAndStreet'].values)+list(test0['AddressNumberAndStreet'].values)\n",
    "    lbl.fit(ad)#\n",
    "    dataframe['AddressNumberAndStreet'] = lbl.transform(dataframe['AddressNumberAndStreet'].values)\n",
    "    return dataframe"
   ]
  },
  {
   "cell_type": "code",
   "execution_count": 105,
   "metadata": {},
   "outputs": [],
   "source": [
    "# 剔除坏数据，切片得到有效数据\n",
    "\n",
    "def slice_data(dataframe):\n",
    "    label = dataframe.WnvPresent.values\n",
    "    train = dataframe.drop(['WnvPresent'], axis=1)\n",
    "    return [train,label]"
   ]
  },
  {
   "cell_type": "code",
   "execution_count": 106,
   "metadata": {},
   "outputs": [],
   "source": [
    "\n",
    "train = train_process(train)\n",
    "train = join_process(train, weather_process(weather))\n",
    "train = encode_data(train )\n",
    "train = slice_data(train)"
   ]
  },
  {
   "cell_type": "code",
   "execution_count": 107,
   "metadata": {},
   "outputs": [],
   "source": [
    "test = encode_data(join_process(train_process(test), weather_process(weather)))"
   ]
  },
  {
   "cell_type": "code",
   "execution_count": 108,
   "metadata": {},
   "outputs": [],
   "source": [
    "# 训练随机森林模型\n",
    "\n",
    "e = time.time()\n",
    "clf = ensemble.RandomForestClassifier(n_jobs=-1, n_estimators=1000, min_samples_split=50)\n",
    "clf.fit(train[0], train[1])\n",
    "s = time.time()"
   ]
  },
  {
   "cell_type": "code",
   "execution_count": 109,
   "metadata": {},
   "outputs": [
    {
     "name": "stdout",
     "output_type": "stream",
     "text": [
      "[0 1]\n",
      "training time: 2.8116142749786377s\n"
     ]
    }
   ],
   "source": [
    "# 计算训练用时\n",
    "\n",
    "print(clf.classes_)\n",
    "print('training time: '+str(s-e) + 's')"
   ]
  },
  {
   "cell_type": "code",
   "execution_count": 121,
   "metadata": {},
   "outputs": [
    {
     "name": "stderr",
     "output_type": "stream",
     "text": [
      "C:\\ProgramData\\Anaconda3\\envs\\BD1Oct26\\lib\\site-packages\\sklearn\\base.py:488: FutureWarning: The feature names should match those that were passed during fit. Starting version 1.2, an error will be raised.\n",
      "Feature names unseen at fit time:\n",
      "- Id\n",
      "Feature names seen at fit time, yet now missing:\n",
      "- NumMosquitos\n",
      "\n",
      "  warnings.warn(message, FutureWarning)\n"
     ]
    }
   ],
   "source": [
    "predictions = pd.DataFrame(clf.predict(test))\n",
    "predictions.index.name = 'ID'\n",
    "predictions.columns = ['WnvPresent']"
   ]
  },
  {
   "cell_type": "code",
   "execution_count": 122,
   "metadata": {},
   "outputs": [],
   "source": [
    "predictions.to_csv('MysampleSubmission.csv')"
   ]
  },
  {
   "cell_type": "code",
   "execution_count": null,
   "metadata": {},
   "outputs": [],
   "source": []
  },
  {
   "cell_type": "code",
   "execution_count": null,
   "metadata": {},
   "outputs": [],
   "source": []
  },
  {
   "cell_type": "code",
   "execution_count": null,
   "metadata": {},
   "outputs": [],
   "source": []
  }
 ],
 "metadata": {
  "kernelspec": {
   "display_name": "Python 3 (ipykernel)",
   "language": "python",
   "name": "python3"
  },
  "language_info": {
   "codemirror_mode": {
    "name": "ipython",
    "version": 3
   },
   "file_extension": ".py",
   "mimetype": "text/x-python",
   "name": "python",
   "nbconvert_exporter": "python",
   "pygments_lexer": "ipython3",
   "version": "3.7.11"
  }
 },
 "nbformat": 4,
 "nbformat_minor": 4
}
