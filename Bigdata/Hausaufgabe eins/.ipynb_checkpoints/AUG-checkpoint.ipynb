{
 "cells": [
  {
   "cell_type": "code",
   "execution_count": 1,
   "metadata": {
    "collapsed": true
   },
   "outputs": [],
   "source": [
    "# 导入模块\n",
    "import pandas as pd\n",
    "import numpy as np\n",
    "from sklearn import ensemble, preprocessing, metrics\n",
    "from sklearn.metrics import accuracy_score\n",
    "from sklearn.metrics import roc_auc_score\n",
    "import time"
   ]
  },
  {
   "cell_type": "code",
   "execution_count": 7,
   "metadata": {
    "collapsed": true
   },
   "outputs": [],
   "source": [
    "# 取经纬度的近似值\n",
    "\n",
    "def appro(x):\n",
    "    return round(x, 2)"
   ]
  },
  {
   "cell_type": "code",
   "execution_count": 4,
   "metadata": {
    "collapsed": true
   },
   "outputs": [],
   "source": [
    "# 处理weather数据集\n",
    "def weather_process(dataframe):\n",
    "    dataframe = dataframe.drop('CodeSum', axis=1)\n",
    "    dataframe = dataframe.drop('StnPressure', axis=1)\n",
    "    dataframe = dataframe.drop('SeaLevel', axis=1)\n",
    "    dataframe = dataframe.drop('PrecipTotal', axis=1)\n",
    "    dataframe = dataframe.drop('Water1', axis=1)\n",
    "    dataframe = dataframe.drop('Depth', axis=1)\n",
    "    weather_stn1 = dataframe[dataframe['Station'] == 1]\n",
    "    weather_stn2 = dataframe[dataframe['Station'] == 2]\n",
    "    weather_stn1 = weather_stn1.drop('Station', axis=1)\n",
    "    weather_stn2 = weather_stn2.drop('Station', axis=1)\n",
    "    dataframe = weather_stn1.merge(weather_stn2, on='Date')\n",
    "    dataframe = dataframe.replace('-', -1)\n",
    "    dataframe = dataframe.replace('M', -1)\n",
    "    dataframe = dataframe.replace('  T', -1)\n",
    "    return dataframe"
   ]
  },
  {
   "cell_type": "code",
   "execution_count": 5,
   "metadata": {
    "collapsed": true
   },
   "outputs": [],
   "source": [
    "# 处理train，test数据集\n",
    "def train_process(dataframe):\n",
    "    dataframe['Month'] = dataframe.Date.apply(create_month)\n",
    "    dataframe['Day'] = dataframe.Date.apply(create_day)\n",
    "    dataframe['Lat_appro'] = dataframe.Latitude.apply(appro)\n",
    "    dataframe['Long_appro'] = dataframe.Longitude.apply(appro)\n",
    "    dataframe = dataframe.drop(['Address', 'Block', 'Street'], axis=1)\n",
    "    return dataframe"
   ]
  },
  {
   "cell_type": "code",
   "execution_count": 6,
   "metadata": {
    "collapsed": true
   },
   "outputs": [],
   "source": [
    "# 分割日期数据\n",
    "\n",
    "def create_month(x):\n",
    "    return x.split('-')[1]\n",
    "\n",
    "def create_day(x):\n",
    "    return x.split('-')[2]"
   ]
  },
  {
   "cell_type": "code",
   "execution_count": 2,
   "metadata": {
    "collapsed": true
   },
   "outputs": [],
   "source": [
    "# 使用数据集\n",
    "train0 = pd.read_csv('train.csv')\n",
    "weather = pd.read_csv('weather.csv')\n",
    "\n",
    "# DataFrame 是一个表格型的数据结构，它含有一组有序的列，每列可以是不同的值类型（数值、字符串、布尔型值）。\n",
    "# DataFrame 既有行索引也有列索引，它可以被看做由 Series 组成的字典（共同用一个索引）。"
   ]
  },
  {
   "cell_type": "code",
   "execution_count": 9,
   "metadata": {
    "collapsed": true
   },
   "outputs": [],
   "source": [
    "# 预处理数据，将标签编码，得到物种、位置以及陷阱对应的编码值\n",
    "\n",
    "def encode_data(dataframe):\n",
    "    lbl = preprocessing.LabelEncoder()\n",
    "    lbl.fit(list(train0['Species'].values))\n",
    "    dataframe['Species'] = lbl.transform(dataframe['Species'].values)\n",
    "    lbl.fit(list(train0['Trap'].values))\n",
    "    dataframe['Trap'] = lbl.transform(dataframe['Trap'].values)\n",
    "    lbl.fit(list(train0['AddressNumberAndStreet'].values))\n",
    "    dataframe['AddressNumberAndStreet'] = lbl.transform(dataframe['AddressNumberAndStreet'].values)\n",
    "    return dataframe"
   ]
  },
  {
   "cell_type": "code",
   "execution_count": 8,
   "metadata": {
    "collapsed": true
   },
   "outputs": [],
   "source": [
    "# 根据日期将天气数据与训练集测试集合并\n",
    "\n",
    "def join_process(data, weather):\n",
    "    data = data.merge(weather, on='Date')\n",
    "    data = data.drop(['Date'], axis=1)\n",
    "    return data"
   ]
  },
  {
   "cell_type": "code",
   "execution_count": 10,
   "metadata": {
    "collapsed": true
   },
   "outputs": [],
   "source": [
    "# 剔除坏数据，切片得到有效数据\n",
    "\n",
    "def slice_data(dataframe):\n",
    "    label = dataframe.WnvPresent.values\n",
    "    train = dataframe.drop(['WnvPresent'], axis=1)\n",
    "    return [train,label]"
   ]
  },
  {
   "cell_type": "code",
   "execution_count": null,
   "metadata": {},
   "outputs": [],
   "source": [
    "train = slice_data(encode_data(join_process(train_process(train), weather_process(weather))))\n",
    "test = slice_data(encode_data(join_process(train_process(test), weather_process(weather))))"
   ]
  },
  {
   "cell_type": "code",
   "execution_count": 3,
   "metadata": {
    "collapsed": true
   },
   "outputs": [],
   "source": [
    "# 按照时间顺序将train0数据集划分为train，test数据集\n",
    "\n",
    "# 思考：如何使用字符串匹配来划分train、test数据集？\n",
    "\n",
    "train = train0[:8114]\n",
    "test = train0[8115:]"
   ]
  },
  {
   "cell_type": "code",
   "execution_count": 11,
   "metadata": {
    "collapsed": true
   },
   "outputs": [
    {
     "name": "stderr",
     "output_type": "stream",
     "text": [
      "<ipython-input-5-906aa25b4856>:3: SettingWithCopyWarning: \n",
      "A value is trying to be set on a copy of a slice from a DataFrame.\n",
      "Try using .loc[row_indexer,col_indexer] = value instead\n",
      "\n",
      "See the caveats in the documentation: https://pandas.pydata.org/pandas-docs/stable/user_guide/indexing.html#returning-a-view-versus-a-copy\n",
      "  dataframe['Month'] = dataframe.Date.apply(create_month)\n",
      "<ipython-input-5-906aa25b4856>:4: SettingWithCopyWarning: \n",
      "A value is trying to be set on a copy of a slice from a DataFrame.\n",
      "Try using .loc[row_indexer,col_indexer] = value instead\n",
      "\n",
      "See the caveats in the documentation: https://pandas.pydata.org/pandas-docs/stable/user_guide/indexing.html#returning-a-view-versus-a-copy\n",
      "  dataframe['Day'] = dataframe.Date.apply(create_day)\n",
      "<ipython-input-5-906aa25b4856>:5: SettingWithCopyWarning: \n",
      "A value is trying to be set on a copy of a slice from a DataFrame.\n",
      "Try using .loc[row_indexer,col_indexer] = value instead\n",
      "\n",
      "See the caveats in the documentation: https://pandas.pydata.org/pandas-docs/stable/user_guide/indexing.html#returning-a-view-versus-a-copy\n",
      "  dataframe['Lat_appro'] = dataframe.Latitude.apply(appro)\n",
      "<ipython-input-5-906aa25b4856>:6: SettingWithCopyWarning: \n",
      "A value is trying to be set on a copy of a slice from a DataFrame.\n",
      "Try using .loc[row_indexer,col_indexer] = value instead\n",
      "\n",
      "See the caveats in the documentation: https://pandas.pydata.org/pandas-docs/stable/user_guide/indexing.html#returning-a-view-versus-a-copy\n",
      "  dataframe['Long_appro'] = dataframe.Longitude.apply(appro)\n"
     ]
    }
   ],
   "source": [
    "train = slice_data(encode_data(join_process(train_process(train), weather_process(weather))))"
   ]
  },
  {
   "cell_type": "code",
   "execution_count": 12,
   "metadata": {
    "collapsed": true
   },
   "outputs": [
    {
     "name": "stderr",
     "output_type": "stream",
     "text": [
      "<ipython-input-5-906aa25b4856>:3: SettingWithCopyWarning: \n",
      "A value is trying to be set on a copy of a slice from a DataFrame.\n",
      "Try using .loc[row_indexer,col_indexer] = value instead\n",
      "\n",
      "See the caveats in the documentation: https://pandas.pydata.org/pandas-docs/stable/user_guide/indexing.html#returning-a-view-versus-a-copy\n",
      "  dataframe['Month'] = dataframe.Date.apply(create_month)\n",
      "<ipython-input-5-906aa25b4856>:4: SettingWithCopyWarning: \n",
      "A value is trying to be set on a copy of a slice from a DataFrame.\n",
      "Try using .loc[row_indexer,col_indexer] = value instead\n",
      "\n",
      "See the caveats in the documentation: https://pandas.pydata.org/pandas-docs/stable/user_guide/indexing.html#returning-a-view-versus-a-copy\n",
      "  dataframe['Day'] = dataframe.Date.apply(create_day)\n",
      "<ipython-input-5-906aa25b4856>:5: SettingWithCopyWarning: \n",
      "A value is trying to be set on a copy of a slice from a DataFrame.\n",
      "Try using .loc[row_indexer,col_indexer] = value instead\n",
      "\n",
      "See the caveats in the documentation: https://pandas.pydata.org/pandas-docs/stable/user_guide/indexing.html#returning-a-view-versus-a-copy\n",
      "  dataframe['Lat_appro'] = dataframe.Latitude.apply(appro)\n",
      "<ipython-input-5-906aa25b4856>:6: SettingWithCopyWarning: \n",
      "A value is trying to be set on a copy of a slice from a DataFrame.\n",
      "Try using .loc[row_indexer,col_indexer] = value instead\n",
      "\n",
      "See the caveats in the documentation: https://pandas.pydata.org/pandas-docs/stable/user_guide/indexing.html#returning-a-view-versus-a-copy\n",
      "  dataframe['Long_appro'] = dataframe.Longitude.apply(appro)\n"
     ]
    }
   ],
   "source": [
    "test = slice_data(encode_data(join_process(train_process(test), weather_process(weather))))"
   ]
  },
  {
   "cell_type": "code",
   "execution_count": 13,
   "metadata": {
    "collapsed": true
   },
   "outputs": [],
   "source": [
    "# 训练随机森林模型\n",
    "\n",
    "e = time.time()\n",
    "clf = ensemble.RandomForestClassifier(n_jobs=-1, n_estimators=1000, min_samples_split=50)\n",
    "clf.fit(train[0], train[1])\n",
    "s = time.time()"
   ]
  },
  {
   "cell_type": "code",
   "execution_count": 14,
   "metadata": {
    "collapsed": true
   },
   "outputs": [
    {
     "name": "stdout",
     "output_type": "stream",
     "text": [
      "[0 1]\n",
      "training time: 2.0226778984069824s\n"
     ]
    }
   ],
   "source": [
    "# 计算训练用时\n",
    "\n",
    "print(clf.classes_)\n",
    "print('training time: '+str(s-e) + 's')"
   ]
  },
  {
   "cell_type": "code",
   "execution_count": 15,
   "metadata": {
    "collapsed": true
   },
   "outputs": [],
   "source": [
    "predictions = clf.predict_proba(test[0])[:,1]"
   ]
  },
  {
   "cell_type": "code",
   "execution_count": 16,
   "metadata": {
    "collapsed": true
   },
   "outputs": [
    {
     "name": "stdout",
     "output_type": "stream",
     "text": [
      "0.8212016456424692\n"
     ]
    }
   ],
   "source": [
    "print(roc_auc_score(test[1], predictions, multi_class='ovo'))"
   ]
  },
  {
   "cell_type": "code",
   "execution_count": null,
   "metadata": {
    "collapsed": true
   },
   "outputs": [],
   "source": []
  },
  {
   "cell_type": "code",
   "execution_count": null,
   "metadata": {
    "collapsed": true
   },
   "outputs": [],
   "source": []
  }
 ],
 "metadata": {
  "kernelspec": {
   "display_name": "Python 3 (ipykernel)",
   "language": "python",
   "name": "python3"
  },
  "language_info": {
   "codemirror_mode": {
    "name": "ipython",
    "version": 3
   },
   "file_extension": ".py",
   "mimetype": "text/x-python",
   "name": "python",
   "nbconvert_exporter": "python",
   "pygments_lexer": "ipython3",
   "version": "3.7.11"
  }
 },
 "nbformat": 4,
 "nbformat_minor": 4
}
