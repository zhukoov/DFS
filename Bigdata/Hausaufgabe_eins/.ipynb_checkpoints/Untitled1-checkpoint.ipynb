{
 "cells": [
  {
   "cell_type": "code",
   "execution_count": 1,
   "metadata": {},
   "outputs": [],
   "source": [
    "import pandas as pd\n",
    "import numpy as np\n",
    "from sklearn import ensemble, preprocessing, metrics\n",
    "import time\n",
    "import tqdm"
   ]
  },
  {
   "cell_type": "code",
   "execution_count": 2,
   "metadata": {},
   "outputs": [],
   "source": [
    "train0 = pd.read_csv('train.csv')\n",
    "weather = pd.read_csv('weather.csv')"
   ]
  },
  {
   "cell_type": "code",
   "execution_count": 7,
   "metadata": {},
   "outputs": [],
   "source": [
    "# train0['Date'].value_counts() #Todo\n",
    "train = train0[:8114]\n",
    "test = train0[8115:]"
   ]
  },
  {
   "cell_type": "code",
   "execution_count": 9,
   "metadata": {},
   "outputs": [
    {
     "name": "stdout",
     "output_type": "stream",
     "text": [
      "             Date                                            Address  \\\n",
      "8115   2013-06-07        1100 Roosevelt Road, Chicago, IL 60608, USA   \n",
      "8116   2013-06-07    2200 North Cannon Drive, Chicago, IL 60614, USA   \n",
      "8117   2013-06-07      1700 West 95th Street, Chicago, IL 60643, USA   \n",
      "8118   2013-06-07  8900 South Carpenter Street, Chicago, IL 60620...   \n",
      "8119   2013-06-07  5800 North Western Avenue, Chicago, IL 60659, USA   \n",
      "...           ...                                                ...   \n",
      "10501  2013-09-26      5100 West 72nd Street, Chicago, IL 60638, USA   \n",
      "10502  2013-09-26    5800 North Ridge Avenue, Chicago, IL 60660, USA   \n",
      "10503  2013-09-26  1700 North Ashland Avenue, Chicago, IL 60622, USA   \n",
      "10504  2013-09-26   7100 North Harlem Avenue, Chicago, IL 60631, USA   \n",
      "10505  2013-09-26      4200 West 65th Street, Chicago, IL 60621, USA   \n",
      "\n",
      "                      Species  Block           Street  Trap  \\\n",
      "8115           CULEX RESTUANS     11      W ROOSEVELT  T048   \n",
      "8116           CULEX RESTUANS     22      N CANNON DR  T054   \n",
      "8117           CULEX RESTUANS     17        W 95TH ST  T094   \n",
      "8118   CULEX PIPIENS/RESTUANS     89   S CARPENTER ST  T159   \n",
      "8119           CULEX RESTUANS     58    N WESTERN AVE  T028   \n",
      "...                       ...    ...              ...   ...   \n",
      "10501  CULEX PIPIENS/RESTUANS     51        W 72ND ST  T035   \n",
      "10502  CULEX PIPIENS/RESTUANS     58      N RIDGE AVE  T231   \n",
      "10503  CULEX PIPIENS/RESTUANS     17    N ASHLAND AVE  T232   \n",
      "10504  CULEX PIPIENS/RESTUANS     71     N HARLEM AVE  T233   \n",
      "10505  CULEX PIPIENS/RESTUANS     42        W 65TH ST  T235   \n",
      "\n",
      "                  AddressNumberAndStreet   Latitude  Longitude  \\\n",
      "8115      1100  W ROOSEVELT, Chicago, IL  41.867108 -87.654224   \n",
      "8116      2200  N CANNON DR, Chicago, IL  41.921965 -87.632085   \n",
      "8117        1700  W 95TH ST, Chicago, IL  41.720848 -87.666014   \n",
      "8118   8900  S CARPENTER ST, Chicago, IL  41.732984 -87.649642   \n",
      "8119    5800  N WESTERN AVE, Chicago, IL  41.986921 -87.689778   \n",
      "...                                  ...        ...        ...   \n",
      "10501       5100  W 72ND ST, Chicago, IL  41.763733 -87.742302   \n",
      "10502     5800  N RIDGE AVE, Chicago, IL  41.987280 -87.666066   \n",
      "10503   1700  N ASHLAND AVE, Chicago, IL  41.912563 -87.668055   \n",
      "10504    7100  N HARLEM AVE, Chicago, IL  42.009876 -87.807277   \n",
      "10505       4200  W 65TH ST, Chicago, IL  41.776428 -87.627096   \n",
      "\n",
      "       AddressAccuracy  NumMosquitos  WnvPresent  \n",
      "8115                 8             2           0  \n",
      "8116                 8             1           0  \n",
      "8117                 9             4           0  \n",
      "8118                 8             4           0  \n",
      "8119                 9             4           0  \n",
      "...                ...           ...         ...  \n",
      "10501                8             6           1  \n",
      "10502                8             5           0  \n",
      "10503                9             1           0  \n",
      "10504                9             5           0  \n",
      "10505                8             1           0  \n",
      "\n",
      "[2391 rows x 12 columns]\n"
     ]
    }
   ],
   "source": [
    "# print(train)\n",
    "print(test)"
   ]
  },
  {
   "cell_type": "code",
   "execution_count": null,
   "metadata": {},
   "outputs": [],
   "source": []
  }
 ],
 "metadata": {
  "kernelspec": {
   "display_name": "Python 3",
   "language": "python",
   "name": "python3"
  },
  "language_info": {
   "codemirror_mode": {
    "name": "ipython",
    "version": 3
   },
   "file_extension": ".py",
   "mimetype": "text/x-python",
   "name": "python",
   "nbconvert_exporter": "python",
   "pygments_lexer": "ipython3",
   "version": "3.8.5"
  }
 },
 "nbformat": 4,
 "nbformat_minor": 4
}
